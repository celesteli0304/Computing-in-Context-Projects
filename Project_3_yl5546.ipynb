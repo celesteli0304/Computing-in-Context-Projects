{
 "cells": [
  {
   "cell_type": "markdown",
   "id": "747c893c-c2bc-4919-a07c-f2e5851dada2",
   "metadata": {},
   "source": [
    "# Dataset(s) to be used:\n",
    "**Unit of analysis: Census tracts**\n",
    "**1. CalEnviroScreen (Version 2.0, 3.0, 4.0)**: https://oehha.ca.gov/calenviroscreen/sb535 \n",
    "- Source: Office of Environmental Health Hazard Assessment (OEHHA), part of California Environmental Protection Agency (CalEPA).\n",
    "- Frequency: Published at three intervals:\n",
    "Version 2.0 (2009-2011): https://data.ca.gov/dataset/calenviroscreen-2-0\n",
    "Version 3.0 (2012-2014): https://data.ca.gov/dataset/calenviroscreen-3-0-results\n",
    "Version 4.0 (2017-2019): https://data.ca.gov/dataset/calenviroscreen-4-0\n",
    "- Variables Used:\n",
    "**Pollution Burden Score (Y):**\n",
    "  https://la.myneighborhooddata.org/2021/06/pollution-burden/\n",
    "  Ranges from 1 to 10, calculated from factors like particulate matter, drinking water, and hazardous waste.\n",
    "**Disadvantaged Community (DAC) Designation (X2):**\n",
    "  https://www.caclimateinvestments.ca.gov/annual-report-2018\n",
    "  Binary indicator (1 = DAC, 0 = Non-DAC) based on CalEnviroScreen criteria.\n",
    "\n",
    "**2. California Climate Investments (2015-2019)**\n",
    "- Source: California Climate Investments (CCI) project, linked to the Cap-and-Trade program.\n",
    "- Frequency: Data on investments from 2015 to 2019, at the census tract level.\n",
    "- Variables Used:\n",
    "**Investment Amount (X1):**\n",
    "  https://gis.data.cnra.ca.gov/datasets/6e3e600538a24df88a7499a3bdf6e1d1_0/explore\n",
    "  Total dollar amount of climate investment per census tract.\n",
    "**Funding Trends:** Year-wise breakdown of funds allocated to DACs and Non-DACs."
   ]
  },
  {
   "cell_type": "markdown",
   "id": "a1e16eb7-3ca8-4b96-8c5a-bf6455d6f7a8",
   "metadata": {},
   "source": [
    "# Analysis Question\n",
    "**Do DACs receive significantly higher investment per capita compared to Non-DACs?**"
   ]
  },
  {
   "cell_type": "markdown",
   "id": "47a3fad6-5344-479f-8dc0-4c504d9eaf16",
   "metadata": {},
   "source": [
    "# Background\n",
    "- **Cap and trade program:** Market based policy that aims to reduce GHG emissions. Allows entities to purchase and sell allowances in the open market. Entities can either buy allowances for emissions, reduce emissions or buy offsets to reduce emissions elsewhere.\n",
    "\n",
    "- When entities purchase allowances it creates revenues for the states that can then be reinvested.\n",
    "\n",
    "- In California these investments are being made in several projects that target pollution such as in low carbon transit systems, reducing agricultural emissions and community solar projects.\n",
    "\n",
    "- **Cap-and-trade program** implemented in 2012 with the law, Senate Bill 535, which dictates that at least 25% of the revenue from the program should be invested in **disadvantaged communities (DACs)** to reduce greenhouse gas emissions.\n",
    "\n",
    "- California designated certain census tracts as disadvantaged based on factors like poverty, unemployment, education as well as pollution and published this data thrice in what it calls **\"CalEnviroScreen\"**.\n",
    "\n",
    "- Investments for climate action starting flowing in 2014\n",
    "\n",
    "- However, it remained unclear whether these investments were benefiting the DACs more than **non-disadvantaged communities (non-DACs)**.\n",
    "\n",
    "- It also remained to be investigated whether these investments have the same return per dollar in DACs as compared to non-DACs."
   ]
  },
  {
   "cell_type": "markdown",
   "id": "2905fdc3-d42d-49cb-9cef-fa131b33f27f",
   "metadata": {},
   "source": [
    "# Data Cleaning & Preparation\n",
    "**Merging:** The CalEnviroScreen data, investment data, and census tract identifiers were combined using the Census Tract ID (GEOID) as a key.\n",
    "\n",
    "**Variable Creation:**\n",
    "- Investment per Capita: Calculated as total investment divided by the population of the census tract.\n",
    "- Funding Category: Classified census tracts into \"Low,\" \"Medium,\" and \"High\" investment categories."
   ]
  },
  {
   "cell_type": "markdown",
   "id": "33ef3792-ce17-4e44-9228-05ab23e92b9b",
   "metadata": {},
   "source": [
    "# Columns that will (likely) be used:\n",
    "1. **id:** Unique identifier for each region or observation.\n",
    "2. **year:** The year corresponding to the observation.\n",
    "3. **score:** A measure that might be useful for descriptive analysis or subgroup analysis.\n",
    "4. **DAC:** Binary indicator (1 = DAC, 0 = Non-DAC) used to classify regions as DACs or Non-DACs.\n",
    "5. **funds:** The amount of investment per capita, which is the key variable of interest for hypothesis testing."
   ]
  },
  {
   "cell_type": "markdown",
   "id": "17d73d14-52bf-47be-8a1a-0f6ad5bfef07",
   "metadata": {},
   "source": [
    "# Columns to be used to merge/join them:\n",
    "- Dataset 1: Pollution — id\n",
    "- Dataset 2: Disadvantaged — id\n",
    "- Dataset 3: Investment — id and year\n",
    "These columns are used as the keys to merge the datasets, ensuring that observations align correctly across the three datasets."
   ]
  },
  {
   "cell_type": "markdown",
   "id": "e5f45e9f-d8ee-430c-8dde-02a243be72c4",
   "metadata": {},
   "source": [
    "# Hypothesis Testing\n",
    "- **Research Question:** Do DACs receive significantly higher investment per capita compared to Non-DACs?\n",
    "- **Null Hypothesis (H₀):** There is no significant difference in investment per capita between DACs and Non-DACs.\n",
    "- **Alternative Hypothesis (Hₐ):** DACs receive significantly higher investment per capita than Non-DACs."
   ]
  },
  {
   "cell_type": "markdown",
   "id": "81f6cfbc-9a6f-4da6-adb8-99811847c657",
   "metadata": {},
   "source": [
    "# Methodology\n",
    "To test this hypothesis, we performed an independent t-test using Welch's t-test (which does not assume equal variances) to compare the mean investment per capita between DACs and Non-DACs.\n",
    "\n",
    "1. Grouping:\n",
    "- DACs: Observations where the DAC column equals 1.\n",
    "- Non-DACs: Observations where the DAC column equals 0.\n",
    "\n",
    "2. Test Statistic:\n",
    "- T-statistic: Measures the magnitude of difference between the two sample means relative to the spread or variability of their sample distributions.\n",
    "\n",
    "3. P-value:\n",
    "This value determines the strength of the evidence against the null hypothesis.\n",
    "\n",
    "4. Significance Level (α):\n",
    "\n",
    "A significance level of 0.05 (5%) was used to make the decision."
   ]
  },
  {
   "cell_type": "code",
   "execution_count": 27,
   "id": "f3919e30-d80f-4aef-9b51-e1ac4fe5f0cf",
   "metadata": {},
   "outputs": [],
   "source": [
    "# Import required libraries\n",
    "import pandas as pd\n",
    "import geopandas as gpd\n",
    "import matplotlib.pyplot as plt\n",
    "import seaborn as sns\n",
    "from pathlib import Path\n",
    "import scipy.stats as stats"
   ]
  },
  {
   "cell_type": "code",
   "execution_count": 28,
   "id": "3c4075bd-f89c-46df-9981-842ed4b67c21",
   "metadata": {},
   "outputs": [],
   "source": [
    "# Pollution Burden (Y)\n",
    "# Load data\n",
    "pollution_2011 = pd.read_excel(\"CalEnviroScreen 2.0 (2009-2011).xlsx\")\n",
    "pollution_2014 = pd.read_excel(\"CalEnviroScreen 3.0 (2012-2014).xlsx\")\n",
    "pollution_2019 = pd.read_excel(\"CalEnviroScreen 4.0 (2017-2019).xlsx\")"
   ]
  },
  {
   "cell_type": "code",
   "execution_count": 38,
   "id": "a2d9e09b-dc8f-4636-b6f5-e6a53e6a1e6d",
   "metadata": {},
   "outputs": [],
   "source": [
    "# Clean data\n",
    "pollution_2011_clean = (\n",
    "    pollution_2011.rename(columns={\"Census Tract\": \"id\", \"Pollution Burden Score\": \"score_2011\"})\n",
    "    .assign(id=lambda x: x['id'].astype(str).str.zfill(11), score_2011=lambda x: x['score_2011'].round(2))\n",
    "    .loc[:, ['id', 'score_2011']]\n",
    ")\n",
    "\n",
    "pollution_2014_clean = (\n",
    "    pollution_2014.rename(columns={\"Census Tract\": \"id\", \"Pollution Burden Score\": \"score_2014\"})\n",
    "    .assign(id=lambda x: x['id'].astype(str).str.zfill(11), score_2014=lambda x: x['score_2014'].round(2))\n",
    "    .loc[:, ['id', 'score_2014']]\n",
    ")\n",
    "\n",
    "pollution_2019_clean = (\n",
    "    pollution_2019.rename(columns={\"Census Tract\": \"id\", \"Pollution Burden Score\": \"score_2019\"})\n",
    "    .assign(id=lambda x: x['id'].astype(str).str.zfill(11), score_2019=lambda x: x['score_2019'].round(2))\n",
    "    .loc[:, ['id', 'score_2019']]\n",
    ")\n",
    "\n",
    "# Join datasets\n",
    "pollution_wide = (\n",
    "    pollution_2011_clean\n",
    "    .merge(pollution_2014_clean, on='id', how='inner')\n",
    "    .merge(pollution_2019_clean, on='id', how='inner')\n",
    ")\n",
    "\n",
    "# Reshape to long format\n",
    "pollution = pollution_wide.melt(id_vars='id', var_name='year', value_name='score')\n",
    "pollution['year'] = pollution['year'].str.extract(r'(\\d{4})').astype(int)\n",
    "pollution.dropna(inplace=True)\n",
    "\n",
    "# Save pollution data\n",
    "pollution.to_csv(\"pollution.csv\", index=False)"
   ]
  },
  {
   "cell_type": "code",
   "execution_count": 39,
   "id": "0c147cab-75d3-4b0d-a857-6cd032720df7",
   "metadata": {},
   "outputs": [],
   "source": [
    "# California Climate Investments (X)\n",
    "investment_2019 = pd.read_excel(\"California Climate Investments (2015-2019).xlsx\")\n",
    "\n",
    "# Clean data\n",
    "investment_clean = (\n",
    "    investment_2019.rename(columns={\"Census Tract\": \"id\", \"Reporting Year\": \"year\", \"Total GGRF Funds Implemented\": \"funds\"})\n",
    "    .assign(id=lambda x: x['id'].astype(str).str.zfill(11), year=lambda x: x['year'].astype(str).str[:4])\n",
    "    .loc[:, ['id', 'year', 'funds']]\n",
    "    .dropna()\n",
    "    .groupby(['id', 'year'], as_index=False)\n",
    "    .agg({'funds': 'sum'})\n",
    ")\n",
    "\n",
    "# Sum funds from 2015 to 2019\n",
    "investment_sum = investment_clean.groupby('id', as_index=False).agg({'funds': 'sum'})\n",
    "investment_sum['year'] = 2019  # Explicitly add the year for clarity\n",
    "\n",
    "# Save investment data\n",
    "investment_clean.to_csv(\"investment.csv\", index=False)\n",
    "investment_sum.to_csv(\"investment_sum.csv\", index=False)"
   ]
  },
  {
   "cell_type": "code",
   "execution_count": 40,
   "id": "45068693-8566-4299-9bd5-09085751980c",
   "metadata": {},
   "outputs": [],
   "source": [
    "# Disadvantaged Communities (Treatment)\n",
    "disadvantaged_2016 = pd.read_csv(\"DisadvantagedCommunities (2016).csv\")\n",
    "\n",
    "# Clean data\n",
    "disadvantaged = (\n",
    "    disadvantaged_2016.rename(columns={\"GEOID10_1\": \"id\", \"DAC16\": \"DAC\"})\n",
    "    .assign(id=lambda x: x['id'].astype(str).str.zfill(11))\n",
    "    .replace({\"DAC\": {\"Y\": \"disadvantaged\", \"N\": \"non-disadvantaged\", \"Data Not Available\": None}})\n",
    "    .dropna()\n",
    "    .loc[:, ['id', 'DAC']]\n",
    ")"
   ]
  },
  {
   "cell_type": "code",
   "execution_count": 41,
   "id": "45f3911d-77bb-4203-8508-c5977851f520",
   "metadata": {},
   "outputs": [],
   "source": [
    "# === Merge All Datasets ===\n",
    "# Ensure 'id' column has consistent data type\n",
    "pollution['id'] = pollution['id'].astype(str).str.zfill(11)\n",
    "disadvantaged['id'] = disadvantaged['id'].astype(str).str.zfill(11)\n",
    "investment_sum['id'] = investment_sum['id'].astype(str).str.zfill(11)  # Ensure 'id' in investment_sum also matches\n",
    "\n",
    "# Merge pollution, disadvantaged, and investment data\n",
    "df = (\n",
    "    pollution\n",
    "    .merge(disadvantaged, on='id', how='inner')\n",
    "    .merge(investment_sum, on='id', how='left')  # Merge only on 'id' since 'year' is not common\n",
    "    .fillna({'funds': 0})  # Replace missing funds with 0\n",
    "    .dropna()\n",
    ")\n",
    "\n",
    "# Save the final dataframe\n",
    "df.to_csv(\"df.csv\", index=False)"
   ]
  },
  {
   "cell_type": "code",
   "execution_count": 42,
   "id": "55e41938-062e-481c-acee-c0cc8f720e35",
   "metadata": {},
   "outputs": [
    {
     "data": {
      "image/png": "[encoded data removed]",
      "text/plain": [
       "<Figure size 640x480 with 1 Axes>"
      ]
     },
     "metadata": {},
     "output_type": "display_data"
    },
    {
     "data": {
      "image/png": "[encoded data removed]",
      "text/plain": [
       "<Figure size 640x480 with 1 Axes>"
      ]
     },
     "metadata": {},
     "output_type": "display_data"
    },
    {
     "data": {
      "image/png": "[encoded data removed]",
      "text/plain": [
       "<Figure size 640x480 with 1 Axes>"
      ]
     },
     "metadata": {},
     "output_type": "display_data"
    }
   ],
   "source": [
    "# Histogram of pollution\n",
    "for year in [2011, 2014, 2019]:\n",
    "    sns.histplot(data=pollution[pollution['year'] == year], x='score')\n",
    "    plt.title(f\"Pollution Burden Score for {year}\")\n",
    "    plt.show()"
   ]
  },
  {
   "cell_type": "code",
   "execution_count": 53,
   "id": "299d0937-cb17-40b7-9575-6865a9a73024",
   "metadata": {},
   "outputs": [],
   "source": [
    "df = pd.read_csv('df.csv')"
   ]
  },
  {
   "cell_type": "code",
   "execution_count": 54,
   "id": "2f46c58e-b735-4486-b176-e610152f93aa",
   "metadata": {},
   "outputs": [
    {
     "data": {
      "text/plain": [
       "18            0\n",
       "19            0\n",
       "20       137663\n",
       "36            0\n",
       "37            0\n",
       "          ...  \n",
       "23881         0\n",
       "23882      6057\n",
       "23886         0\n",
       "23887         0\n",
       "23888     99712\n",
       "Name: funds, Length: 8202, dtype: int64"
      ]
     },
     "execution_count": 54,
     "metadata": {},
     "output_type": "execute_result"
    }
   ],
   "source": [
    "# Create two groups: DACs and Non-DACs\n",
    "dacs = df[df['DAC'] == \"disadvantaged\"]['funds']\n",
    "non_dacs = df[df['DAC'] == \"non-disadvantaged\"]['funds']\n",
    "dacs"
   ]
  },
  {
   "cell_type": "code",
   "execution_count": 55,
   "id": "21bc0fe2-fdae-40b4-aded-e9448b42e8a2",
   "metadata": {},
   "outputs": [
    {
     "name": "stdout",
     "output_type": "stream",
     "text": [
      "T-statistic: -13.728863553698448\n",
      "P-value: 1.1242566899954054e-42\n",
      "Reject the null hypothesis: DACs receive significantly higher investment per capita than Non-DACs.\n"
     ]
    }
   ],
   "source": [
    "# Perform an independent t-test to compare the means of the two groups using scipy.stats\n",
    "t_stat, p_value = stats.ttest_ind(dacs, non_dacs, equal_var=False)  # Welch's t-test (unequal variance assumed)\n",
    "\n",
    "# Print the results\n",
    "print(\"T-statistic:\", t_stat)\n",
    "print(\"P-value:\", p_value)\n",
    "\n",
    "# Set significance level (alpha)\n",
    "alpha = 0.05\n",
    "\n",
    "# Decision based on the p-value\n",
    "if p_value < alpha:\n",
    "    print(\"Reject the null hypothesis: DACs receive significantly higher investment per capita than Non-DACs.\")\n",
    "else:\n",
    "    print(\"Fail to reject the null hypothesis: No significant difference in investment per capita between DACs and Non-DACs.\")\n"
   ]
  },
  {
   "cell_type": "markdown",
   "id": "9bd63ab6-c608-471b-bffe-20e6d2cd9e6f",
   "metadata": {},
   "source": [
    "# Hypothesis Testing Results\n",
    "\n",
    "**Research Question:** Do Disadvantaged Communities (DACs) receive significantly higher investment per capita compared to Non-DACs?\n",
    "\n",
    "**Hypotheses:**\n",
    "\n",
    "Null Hypothesis (H₀): There is no significant difference in investment per capita between DACs and Non-DACs.\n",
    "Alternative Hypothesis (Hₐ): DACs receive significantly higher investment per capita than Non-DACs.\n",
    "\n",
    "**Test Results:**\n",
    "\n",
    "- T-statistic: -13.73\n",
    "- P-value: 1.12 × 10⁻⁴²\n",
    "\n",
    "Given that the p-value is far below the significance level (α = 0.05), we reject the null hypothesis. This result provides strong statistical evidence that DACs receive significantly higher investment per capita compared to Non-DACs. The negative t-statistic indicates that the mean investment per capita for DACs is substantially higher than that of Non-DACs.\n",
    "\n",
    "These findings highlight the effectiveness of targeted funding strategies, suggesting that resources are being allocated preferentially to DACs. This result may inform future policy decisions related to equitable investment distribution."
   ]
  }
 ],
 "metadata": {
  "kernelspec": {
   "display_name": "Python 3 (ipykernel)",
   "language": "python",
   "name": "python3"
  },
  "language_info": {
   "codemirror_mode": {
    "name": "ipython",
    "version": 3
   },
   "file_extension": ".py",
   "mimetype": "text/x-python",
   "name": "python",
   "nbconvert_exporter": "python",
   "pygments_lexer": "ipython3",
   "version": "3.12.7"
  }
 },
 "nbformat": 4,
 "nbformat_minor": 5
}
