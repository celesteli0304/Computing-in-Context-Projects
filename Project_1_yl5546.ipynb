{
 "cells": [
  {
   "cell_type": "markdown",
   "id": "076c1cf0-01bb-4a22-8edc-4bcd247e7f00",
   "metadata": {},
   "source": [
    "# Step 1: Find a dataset\n",
    "https://www.kaggle.com/datasets/yusufdelikkaya/google-play-store-apps-dataset?resource=download\n",
    "\n",
    "**Description:**\n",
    "- The dataset comprises anonymized data on apps available on the Google Play Store, capturing various aspects such as ratings, downloads, and categorization.\n",
    "- The dataset has 10,841 entries, with some columns containing missing values, particularly in \"Rating,\" \"Type,\" \"Content Rating,\" \"Current Ver,\" and \"Android Ver\".\n",
    "- This dataset can be utilized for analyzing trends in mobile app usage, user preferences, and app performance metrics across different categories.\n",
    "\n",
    "As there’s more than one numeric column, I pick the colunm *Reviews* for further analysis."
   ]
  },
  {
   "cell_type": "markdown",
   "id": "f73458ad-541d-4930-b40f-54a1b481ab08",
   "metadata": {},
   "source": [
    "# Step 2: Work with the data in pandas"
   ]
  },
  {
   "cell_type": "markdown",
   "id": "5c5c335a-f1ee-4750-9fbc-b1e7a2f1d861",
   "metadata": {},
   "source": [
    "## 1. Read in the data\n",
    "After importing pandas library, I load the dataset into a pandas DataFrame using the read_csv function. This dataset contains information about various mobile apps, including a numeric column for 'Reviews,' which I will analyze.\n",
    "\n",
    "After loading the data, I will focus specifically on the 'Reviews' column, which contains the number of reviews each app has received."
   ]
  },
  {
   "cell_type": "code",
   "execution_count": 8,
   "id": "47a595f5-92aa-491e-a41e-982c88404c9b",
   "metadata": {},
   "outputs": [],
   "source": [
    "import pandas as pd"
   ]
  },
  {
   "cell_type": "code",
   "execution_count": 9,
   "id": "3571cd32-3984-46e6-b4b5-4edf063cfee6",
   "metadata": {},
   "outputs": [],
   "source": [
    "data = pd.read_csv(\"google_play_store_dataset.csv\")"
   ]
  },
  {
   "cell_type": "markdown",
   "id": "5222ba07-91c4-42c2-a2b2-bf154cc17273",
   "metadata": {},
   "source": [
    "## 2. Data Cleaning\n",
    "In this step, I will remove any missing (NaN) values from the 'Reviews' column to ensure our calculations are not affected by incomplete entries."
   ]
  },
  {
   "cell_type": "code",
   "execution_count": 13,
   "id": "232f7887-2663-49c7-abbc-f16a8d8a022f",
   "metadata": {},
   "outputs": [],
   "source": [
    "data['Reviews'] = pd.to_numeric(data['Reviews'], errors='coerce')\n",
    "reviews = data['Reviews'].dropna() "
   ]
  },
  {
   "cell_type": "markdown",
   "id": "baa834cc-66e3-49fe-ad88-668c500567be",
   "metadata": {},
   "source": [
    "## 3. Compute the mean, median, and mode"
   ]
  },
  {
   "cell_type": "code",
   "execution_count": 14,
   "id": "ff831dcd-a814-4201-abb7-1e133407d4be",
   "metadata": {},
   "outputs": [
    {
     "name": "stdout",
     "output_type": "stream",
     "text": [
      "Mean of Reviews: 444152.89603321033\n",
      "Median of Reviews: 2094.0\n",
      "Mode of Reviews: 0.0\n"
     ]
    }
   ],
   "source": [
    "mean_reviews = reviews.mean()\n",
    "median_reviews = reviews.median()\n",
    "mode_reviews = reviews.mode()\n",
    "\n",
    "# Print the results\n",
    "print(\"Mean of Reviews:\", mean_reviews)\n",
    "print(\"Median of Reviews:\", median_reviews)\n",
    "print(\"Mode of Reviews:\", mode_reviews[0] if not mode_reviews.empty else \"No mode\")"
   ]
  },
  {
   "cell_type": "markdown",
   "id": "2f6911cc-ad58-403d-98d7-54ea262341cc",
   "metadata": {},
   "source": [
    "The results provide insights into user engagement across different Google Play Store apps:\n",
    "\n",
    "**1. Mean of Reviews (444,153):** The mean of reviews is about 444,153, representing the average number of reviews across all apps. This relatively high mean suggests that some apps have a substantial number of reviews, likely popular apps with millions of users. However, this average may be skewed by a few high-review outliers, as indicated by the large gap between the mean and median.\n",
    "\n",
    "**2. Median of Reviews (2,094):** The median, or the middle value, is significantly lower than the mean. This indicates that half of the apps have fewer than 2,094 reviews. It also suggests a skewed distribution, where the majority of apps have relatively low review counts, but a few have very high counts that pull the mean up.\n",
    "\n",
    "**3. Mode of Reviews (0):** The mode, or the most frequently occurring value, is 0. This tells us that a considerable number of apps have no reviews at all, which could include newly launched or less popular apps that haven’t attracted user attention yet."
   ]
  },
  {
   "cell_type": "markdown",
   "id": "00c5cac5-829f-440f-abaa-59d7569dd52c",
   "metadata": {},
   "source": [
    "# Step 3: Repeat the previous step using only the Python standard library"
   ]
  },
  {
   "cell_type": "code",
   "execution_count": 15,
   "id": "172cc81d-2349-42bb-ae97-8554542738e9",
   "metadata": {},
   "outputs": [],
   "source": [
    "import csv"
   ]
  },
  {
   "cell_type": "markdown",
   "id": "0e843060-a934-4849-ad6e-3b2ce3f3bfa3",
   "metadata": {},
   "source": [
    "## 1. Read in the CSV file and extract the \"Reviews\" column"
   ]
  },
  {
   "cell_type": "markdown",
   "id": "977d2686-d975-4c8b-9af5-16d36647c9d8",
   "metadata": {},
   "source": [
    "I open the CSV file and read each row. I attempt to convert the 'Reviews' column to a float, appending valid numeric values to the reviews list. Non-numeric entries are skipped."
   ]
  },
  {
   "cell_type": "code",
   "execution_count": 17,
   "id": "d87430a1-7f9a-4b0d-88cb-4b8d75da1b03",
   "metadata": {},
   "outputs": [],
   "source": [
    "reviews = []\n",
    "with open('google_play_store_dataset.csv', 'r', encoding='utf-8-sig') as file:\n",
    "    reader = csv.DictReader(file)\n",
    "    for row in reader:\n",
    "        try:\n",
    "            review_count = float(row['Reviews'])\n",
    "            reviews.append(review_count)\n",
    "        except ValueError:\n",
    "            continue"
   ]
  },
  {
   "cell_type": "markdown",
   "id": "ac30d9ee-1e4b-40ab-b639-eb21f3903036",
   "metadata": {},
   "source": [
    "## 2. Calculate mean, median, and mode:\n",
    "**(1) Mean:** I calculate the total sum of all values in reviews and then divide by the number of entries.\n",
    "\n",
    "**(2) Median:** I sort reviews and find the middle element (or average of the two middle elements if the count is even).\n",
    "\n",
    "**(3) Mode:** I use a dictionary to count occurrences of each unique review value. After counting, I find the maximum occurrence count and identify which values have that count. If there is only one mode, I return that value; if there are multiple modes, I return a list of them.\n",
    "\n",
    "To be specific, I want to count how many times each unique review value appears in reviews. review_counts is a dictionary where key is each unique value in reviews, value is the count of how many times that value appears."
   ]
  },
  {
   "cell_type": "code",
   "execution_count": 20,
   "id": "4ea9f5d7-0c7f-4eaa-b71b-3592464f0e7b",
   "metadata": {},
   "outputs": [
    {
     "name": "stdout",
     "output_type": "stream",
     "text": [
      "Mean of Reviews: 444152.89603321033\n",
      "Median of Reviews: 2094.0\n",
      "Mode of Reviews: 0.0\n"
     ]
    }
   ],
   "source": [
    "# Calculate the mean\n",
    "total_reviews = sum(reviews)\n",
    "mean_reviews = total_reviews / len(reviews)\n",
    "\n",
    "# Calculate the median\n",
    "sorted_reviews = sorted(reviews)\n",
    "n = len(sorted_reviews)\n",
    "if n % 2 == 1:\n",
    "    median_reviews = sorted_reviews[n // 2]\n",
    "else:\n",
    "    median_reviews = (sorted_reviews[n // 2 - 1] + sorted_reviews[n // 2]) / 2\n",
    "\n",
    "# Calculate the mode\n",
    "review_counts = {}\n",
    "for review in reviews:\n",
    "    if review in review_counts:\n",
    "        review_counts[review] += 1 # Increment the count if the review value already exists\n",
    "    else:\n",
    "        review_counts[review] = 1 # Initialize the count to 1 for a new review value\n",
    "\n",
    "max_count = max(review_counts.values())\n",
    "mode_reviews = [key for key, count in review_counts.items() if count == max_count]\n",
    "\n",
    "print(\"Mean of Reviews:\", mean_reviews)\n",
    "print(\"Median of Reviews:\", median_reviews)\n",
    "print(\"Mode of Reviews:\", mode_reviews[0] if len(mode_reviews) == 1 else mode_reviews)"
   ]
  },
  {
   "cell_type": "markdown",
   "id": "ef711b42-0fc1-4791-89b5-4a2316bcff98",
   "metadata": {},
   "source": [
    "The analysis result of the \"Reviews\" column in this Google Play Store dataset reveals below insights:\n",
    "\n",
    "**1. Mean of Reviews (444,153):** The average number of reviews per app is quite high, suggesting that some apps are very popular with significant user engagement. However, this high mean likely indicates the influence of a few apps with exceptionally high review counts, which increases the overall average.\n",
    "\n",
    "**2. Median of Reviews (2,094):** The median is significantly lower than the mean, showing that half of the apps have fewer than 2,094 reviews. This large difference between the mean and median suggests that the distribution is skewed, with a small number of apps gathering many more reviews than the majority.\n",
    "\n",
    "**3. Mode of Reviews (0):** The mode, or most frequently occurring value, is zero, meaning that a considerable number of apps have no reviews at all. This implies that there are many lesser-known or newer apps on the platform that haven’t received user engagement."
   ]
  },
  {
   "cell_type": "markdown",
   "id": "93d5633c-d71c-4de6-a1ea-c7b623bf40f1",
   "metadata": {},
   "source": [
    "# Step 4: Data visualization"
   ]
  },
  {
   "cell_type": "code",
   "execution_count": 30,
   "id": "305c9919-19aa-4879-a71c-dd27badb6343",
   "metadata": {},
   "outputs": [
    {
     "name": "stdout",
     "output_type": "stream",
     "text": [
      "Rating Statistics by Genre:\n",
      "February 11, 2018: 🌟🌟🌟🌟🌟🌟🌟🌟🌟🌟🌟🌟🌟🌟🌟🌟🌟🌟🌟🌟🌟🌟🌟🌟🌟🌟🌟🌟🌟🌟🌟🌟🌟🌟🌟🌟🌟🌟🌟🌟🌟🌟🌟🌟🌟 | Mean Rating: 19.00\n",
      "Comics;Creativity: 🌟🌟🌟🌟🌟🌟🌟🌟🌟 | Mean Rating: 4.80\n",
      "Board;Pretend Play: 🌟🌟🌟🌟🌟🌟🌟🌟🌟 | Mean Rating: 4.80\n",
      "Health & Fitness;Education: 🌟🌟🌟🌟🌟🌟🌟🌟🌟 | Mean Rating: 4.70\n",
      "Adventure;Brain Games: 🌟🌟🌟🌟🌟🌟🌟🌟🌟 | Mean Rating: 4.60\n",
      "Strategy;Action & Adventure: 🌟🌟🌟🌟🌟🌟🌟🌟🌟 | Mean Rating: 4.60\n",
      "Puzzle;Education: 🌟🌟🌟🌟🌟🌟🌟🌟🌟 | Mean Rating: 4.60\n",
      "Music;Music & Video: 🌟🌟🌟🌟🌟🌟🌟🌟 | Mean Rating: 4.53\n",
      "Entertainment;Creativity: 🌟🌟🌟🌟🌟🌟🌟🌟 | Mean Rating: 4.53\n",
      "Strategy;Education: 🌟🌟🌟🌟🌟🌟🌟🌟 | Mean Rating: 4.50\n",
      "Arcade;Pretend Play: 🌟🌟🌟🌟🌟🌟🌟🌟 | Mean Rating: 4.50\n",
      "Tools;Education: 🌟🌟🌟🌟🌟🌟🌟🌟 | Mean Rating: 4.50\n",
      "Racing;Pretend Play: 🌟🌟🌟🌟🌟🌟🌟🌟 | Mean Rating: 4.50\n",
      "Casual;Brain Games: 🌟🌟🌟🌟🌟🌟🌟🌟 | Mean Rating: 4.47\n",
      "Events: 🌟🌟🌟🌟🌟🌟🌟🌟 | Mean Rating: 4.44\n",
      "Education;Brain Games: 🌟🌟🌟🌟🌟🌟🌟🌟 | Mean Rating: 4.43\n",
      "Adventure;Action & Adventure: 🌟🌟🌟🌟🌟🌟🌟🌟 | Mean Rating: 4.42\n",
      "Simulation;Action & Adventure: 🌟🌟🌟🌟🌟🌟🌟🌟 | Mean Rating: 4.42\n",
      "Word: 🌟🌟🌟🌟🌟🌟🌟🌟 | Mean Rating: 4.41\n",
      "Entertainment;Education: 🌟🌟🌟🌟🌟🌟🌟🌟 | Mean Rating: 4.40\n",
      "Puzzle;Creativity: 🌟🌟🌟🌟🌟🌟🌟🌟 | Mean Rating: 4.40\n",
      "Strategy;Creativity: 🌟🌟🌟🌟🌟🌟🌟🌟 | Mean Rating: 4.40\n",
      "Art & Design;Creativity: 🌟🌟🌟🌟🌟🌟🌟🌟 | Mean Rating: 4.40\n",
      "Card;Brain Games: 🌟🌟🌟🌟🌟🌟🌟🌟 | Mean Rating: 4.40\n",
      "Puzzle: 🌟🌟🌟🌟🌟🌟🌟🌟 | Mean Rating: 4.39\n",
      "Education;Pretend Play: 🌟🌟🌟🌟🌟🌟🌟🌟 | Mean Rating: 4.38\n",
      "Puzzle;Brain Games: 🌟🌟🌟🌟🌟🌟🌟🌟 | Mean Rating: 4.37\n",
      "Education;Education: 🌟🌟🌟🌟🌟🌟🌟🌟 | Mean Rating: 4.37\n",
      "Simulation;Education: 🌟🌟🌟🌟🌟🌟🌟🌟 | Mean Rating: 4.37\n",
      "Art & Design: 🌟🌟🌟🌟🌟🌟🌟🌟 | Mean Rating: 4.36\n",
      "Sports;Action & Adventure: 🌟🌟🌟🌟🌟🌟🌟🌟 | Mean Rating: 4.35\n",
      "Simulation;Pretend Play: 🌟🌟🌟🌟🌟🌟🌟🌟 | Mean Rating: 4.35\n",
      "Arcade;Action & Adventure: 🌟🌟🌟🌟🌟🌟🌟🌟 | Mean Rating: 4.35\n",
      "Books & Reference: 🌟🌟🌟🌟🌟🌟🌟🌟 | Mean Rating: 4.35\n",
      "Education;Creativity: 🌟🌟🌟🌟🌟🌟🌟🌟 | Mean Rating: 4.34\n",
      "Role Playing;Action & Adventure: 🌟🌟🌟🌟🌟🌟🌟🌟 | Mean Rating: 4.34\n",
      "Parenting: 🌟🌟🌟🌟🌟🌟🌟🌟 | Mean Rating: 4.34\n",
      "Board;Brain Games: 🌟🌟🌟🌟🌟🌟🌟🌟 | Mean Rating: 4.34\n",
      "Personalization: 🌟🌟🌟🌟🌟🌟🌟🌟 | Mean Rating: 4.34\n",
      "Parenting;Music & Video: 🌟🌟🌟🌟🌟🌟🌟🌟 | Mean Rating: 4.33\n",
      "Entertainment;Brain Games: 🌟🌟🌟🌟🌟🌟🌟🌟 | Mean Rating: 4.33\n",
      "Casual;Creativity: 🌟🌟🌟🌟🌟🌟🌟🌟 | Mean Rating: 4.31\n",
      "Action;Action & Adventure: 🌟🌟🌟🌟🌟🌟🌟🌟 | Mean Rating: 4.31\n",
      "Arcade: 🌟🌟🌟🌟🌟🌟🌟🌟 | Mean Rating: 4.30\n",
      "Education: 🌟🌟🌟🌟🌟🌟🌟🌟 | Mean Rating: 4.30\n",
      "Music & Audio;Music & Video: 🌟🌟🌟🌟🌟🌟🌟🌟 | Mean Rating: 4.30\n",
      "Lifestyle;Education: 🌟🌟🌟🌟🌟🌟🌟🌟 | Mean Rating: 4.30\n",
      "Racing;Action & Adventure: 🌟🌟🌟🌟🌟🌟🌟🌟 | Mean Rating: 4.30\n",
      "Puzzle;Action & Adventure: 🌟🌟🌟🌟🌟🌟🌟🌟 | Mean Rating: 4.30\n",
      "Education;Action & Adventure: 🌟🌟🌟🌟🌟🌟🌟🌟 | Mean Rating: 4.30\n",
      "Role Playing;Brain Games: 🌟🌟🌟🌟🌟🌟🌟🌟 | Mean Rating: 4.30\n",
      "Card;Action & Adventure: 🌟🌟🌟🌟🌟🌟🌟🌟 | Mean Rating: 4.30\n",
      "Board: 🌟🌟🌟🌟🌟🌟🌟🌟 | Mean Rating: 4.29\n",
      "Casino: 🌟🌟🌟🌟🌟🌟🌟🌟 | Mean Rating: 4.29\n",
      "Action: 🌟🌟🌟🌟🌟🌟🌟🌟 | Mean Rating: 4.29\n",
      "Beauty: 🌟🌟🌟🌟🌟🌟🌟🌟 | Mean Rating: 4.28\n",
      "Health & Fitness: 🌟🌟🌟🌟🌟🌟🌟🌟 | Mean Rating: 4.28\n",
      "Role Playing: 🌟🌟🌟🌟🌟🌟🌟🌟 | Mean Rating: 4.28\n",
      "Casual;Education: 🌟🌟🌟🌟🌟🌟🌟🌟 | Mean Rating: 4.27\n",
      "Casual;Action & Adventure: 🌟🌟🌟🌟🌟🌟🌟🌟 | Mean Rating: 4.27\n",
      "Shopping: 🌟🌟🌟🌟🌟🌟🌟🌟 | Mean Rating: 4.26\n",
      "Social: 🌟🌟🌟🌟🌟🌟🌟🌟 | Mean Rating: 4.26\n",
      "Strategy: 🌟🌟🌟🌟🌟🌟🌟🌟 | Mean Rating: 4.25\n",
      "Weather: 🌟🌟🌟🌟🌟🌟🌟🌟 | Mean Rating: 4.24\n",
      "Educational;Education: 🌟🌟🌟🌟🌟🌟🌟🌟 | Mean Rating: 4.24\n",
      "Educational;Pretend Play: 🌟🌟🌟🌟🌟🌟🌟🌟 | Mean Rating: 4.24\n",
      "Sports: 🌟🌟🌟🌟🌟🌟🌟🌟 | Mean Rating: 4.24\n",
      "Educational;Brain Games: 🌟🌟🌟🌟🌟🌟🌟🌟 | Mean Rating: 4.22\n",
      "Music: 🌟🌟🌟🌟🌟🌟🌟🌟 | Mean Rating: 4.21\n",
      "Productivity: 🌟🌟🌟🌟🌟🌟🌟🌟 | Mean Rating: 4.21\n",
      "Entertainment;Music & Video: 🌟🌟🌟🌟🌟🌟🌟🌟 | Mean Rating: 4.21\n",
      "Communication;Creativity: 🌟🌟🌟🌟🌟🌟🌟🌟 | Mean Rating: 4.20\n",
      "Educational;Action & Adventure: 🌟🌟🌟🌟🌟🌟🌟🌟 | Mean Rating: 4.20\n",
      "Education;Music & Video: 🌟🌟🌟🌟🌟🌟🌟🌟 | Mean Rating: 4.20\n",
      "Books & Reference;Education: 🌟🌟🌟🌟🌟🌟🌟🌟 | Mean Rating: 4.20\n",
      "Entertainment;Action & Adventure: 🌟🌟🌟🌟🌟🌟🌟🌟 | Mean Rating: 4.20\n",
      "House & Home: 🌟🌟🌟🌟🌟🌟🌟 | Mean Rating: 4.20\n",
      "Photography: 🌟🌟🌟🌟🌟🌟🌟 | Mean Rating: 4.19\n",
      "Auto & Vehicles: 🌟🌟🌟🌟🌟🌟🌟 | Mean Rating: 4.19\n",
      "Medical: 🌟🌟🌟🌟🌟🌟🌟 | Mean Rating: 4.19\n",
      "Casual;Pretend Play: 🌟🌟🌟🌟🌟🌟🌟 | Mean Rating: 4.18\n",
      "Adventure: 🌟🌟🌟🌟🌟🌟🌟 | Mean Rating: 4.18\n",
      "Libraries & Demo: 🌟🌟🌟🌟🌟🌟🌟 | Mean Rating: 4.18\n",
      "Racing: 🌟🌟🌟🌟🌟🌟🌟 | Mean Rating: 4.17\n",
      "Food & Drink: 🌟🌟🌟🌟🌟🌟🌟 | Mean Rating: 4.17\n",
      "Communication: 🌟🌟🌟🌟🌟🌟🌟 | Mean Rating: 4.16\n",
      "Simulation: 🌟🌟🌟🌟🌟🌟🌟 | Mean Rating: 4.15\n",
      "Casual: 🌟🌟🌟🌟🌟🌟🌟 | Mean Rating: 4.15\n",
      "Comics: 🌟🌟🌟🌟🌟🌟🌟 | Mean Rating: 4.14\n",
      "News & Magazines: 🌟🌟🌟🌟🌟🌟🌟 | Mean Rating: 4.13\n",
      "Finance: 🌟🌟🌟🌟🌟🌟🌟 | Mean Rating: 4.13\n",
      "Business: 🌟🌟🌟🌟🌟🌟🌟 | Mean Rating: 4.12\n",
      "Travel & Local: 🌟🌟🌟🌟🌟🌟🌟 | Mean Rating: 4.11\n",
      "Video Players & Editors;Creativity: 🌟🌟🌟🌟🌟🌟🌟 | Mean Rating: 4.10\n",
      "Travel & Local;Action & Adventure: 🌟🌟🌟🌟🌟🌟🌟 | Mean Rating: 4.10\n",
      "Adventure;Education: 🌟🌟🌟🌟🌟🌟🌟 | Mean Rating: 4.10\n",
      "Casual;Music & Video: 🌟🌟🌟🌟🌟🌟🌟 | Mean Rating: 4.10\n",
      "Lifestyle: 🌟🌟🌟🌟🌟🌟🌟 | Mean Rating: 4.10\n",
      "Entertainment: 🌟🌟🌟🌟🌟🌟🌟 | Mean Rating: 4.09\n",
      "Card: 🌟🌟🌟🌟🌟🌟🌟 | Mean Rating: 4.09\n",
      "Video Players & Editors: 🌟🌟🌟🌟🌟🌟🌟 | Mean Rating: 4.06\n",
      "Maps & Navigation: 🌟🌟🌟🌟🌟🌟🌟 | Mean Rating: 4.05\n",
      "Tools: 🌟🌟🌟🌟🌟🌟🌟 | Mean Rating: 4.05\n",
      "Trivia: 🌟🌟🌟🌟🌟🌟🌟 | Mean Rating: 4.04\n",
      "Board;Action & Adventure: 🌟🌟🌟🌟🌟🌟🌟 | Mean Rating: 4.03\n",
      "Role Playing;Pretend Play: 🌟🌟🌟🌟🌟🌟🌟 | Mean Rating: 4.02\n",
      "Lifestyle;Pretend Play: 🌟🌟🌟🌟🌟🌟🌟 | Mean Rating: 4.00\n",
      "Video Players & Editors;Music & Video: 🌟🌟🌟🌟🌟🌟🌟 | Mean Rating: 4.00\n",
      "Entertainment;Pretend Play: 🌟🌟🌟🌟🌟🌟🌟 | Mean Rating: 4.00\n",
      "Dating: 🌟🌟🌟🌟🌟🌟🌟 | Mean Rating: 3.97\n",
      "Educational;Creativity: 🌟🌟🌟🌟🌟🌟🌟 | Mean Rating: 3.96\n",
      "Health & Fitness;Action & Adventure: 🌟🌟🌟🌟🌟🌟🌟 | Mean Rating: 3.90\n",
      "Art & Design;Pretend Play: 🌟🌟🌟🌟🌟🌟🌟 | Mean Rating: 3.90\n",
      "Educational: 🌟🌟🌟🌟🌟🌟🌟 | Mean Rating: 3.87\n",
      "Parenting;Education: 🌟🌟🌟🌟🌟🌟🌟 | Mean Rating: 3.87\n",
      "Parenting;Brain Games: 🌟🌟🌟🌟🌟🌟🌟 | Mean Rating: 3.80\n"
     ]
    }
   ],
   "source": [
    "import pandas as pd\n",
    "import statistics\n",
    "\n",
    "# Step 1: Read the dataset using pandas\n",
    "data = pd.read_csv('google_play_store_dataset.csv')\n",
    "\n",
    "# Step 2: Clean the data (convert Rating to numeric, handle errors)\n",
    "data['Rating'] = pd.to_numeric(data['Rating'], errors='coerce')\n",
    "\n",
    "# Step 3: Drop NaN values from the Rating column\n",
    "data = data.dropna(subset=['Rating', 'Genres'])\n",
    "\n",
    "# Step 4: Group by Genre and calculate the mean rating for each genre\n",
    "genre_ratings = data.groupby('Genres')['Rating'].mean().reset_index()\n",
    "\n",
    "# Step 5: Sort genres by mean rating for a cleaner output\n",
    "genre_ratings = genre_ratings.sort_values(by='Rating', ascending=False)\n",
    "\n",
    "# Step 6: Create a function for generating a sparkline\n",
    "def generate_sparkline(value, min_value, max_value, max_length=10):\n",
    "    \"\"\"Generates a sparkline based on the rating value, scaling it to fit the rating range.\"\"\"\n",
    "    scaled_value = int((value - min_value) / (max_value - min_value) * max_length)\n",
    "    return '🌟' * scaled_value\n",
    "\n",
    "# Step 7: Generate and print the results\n",
    "min_rating = 1  # Minimum possible rating value\n",
    "max_rating = 5  # Maximum possible rating value\n",
    "\n",
    "print(\"Rating Statistics by Genre:\")\n",
    "for index, row in genre_ratings.iterrows():\n",
    "    genre = row['Genres']\n",
    "    mean_rating = row['Rating']\n",
    "    sparkline = generate_sparkline(mean_rating, min_rating, max_rating)\n",
    "    print(f\"{genre}: {sparkline} | Mean Rating: {mean_rating:.2f}\")\n"
   ]
  },
  {
   "cell_type": "markdown",
   "id": "048fbd4f-6340-4618-a42e-4a4f37b1de24",
   "metadata": {},
   "source": [
    "The data shows significant variation in user ratings depending on the genre and the specific category.\n",
    "\n",
    "**1. Top-rated categories:** Genres like Comics, Creativity, Board Games, Pretend Play, and Health & Fitness consistently received high ratings, averaging around 4.80 or higher. These categories tend to offer interactive and engaging content, which likely contributes to their higher ratings. For example, Comics and Creativity appeal to users' need for entertainment and self-expression, while Health & Fitness resonates with individuals looking to improve their well-being.\n",
    "\n",
    "**2. Highly rated sub-genres:** Many genres, such as Puzzle, Education, and Strategy, maintain high ratings of around 4.60 to 4.50, indicating that users value apps that are both challenging and educational. For instance, Puzzle games not only entertain but also encourage critical thinking, which may explain their popularity.\n",
    "\n",
    "**3. Slightly lower-rated categories:** On the lower end, genres like Dating, Health & Fitness - Action & Adventure, and Parenting show ratings below 4.00. These categories may reflect niche markets with more specific user needs or expectations, which could contribute to less overall satisfaction. In the case of Dating apps, users may have higher expectations, given the personal nature of these apps, which can lead to more critical feedback."
   ]
  }
 ],
 "metadata": {
  "kernelspec": {
   "display_name": "Python 3 (ipykernel)",
   "language": "python",
   "name": "python3"
  },
  "language_info": {
   "codemirror_mode": {
    "name": "ipython",
    "version": 3
   },
   "file_extension": ".py",
   "mimetype": "text/x-python",
   "name": "python",
   "nbconvert_exporter": "python",
   "pygments_lexer": "ipython3",
   "version": "3.12.7"
  }
 },
 "nbformat": 4,
 "nbformat_minor": 5
}
